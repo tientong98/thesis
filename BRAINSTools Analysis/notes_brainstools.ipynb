{
 "cells": [
  {
   "cell_type": "markdown",
   "metadata": {},
   "source": [
    "# Running BrainsTools\n",
    "\n",
    "Follow the direction here https://github.com/TKoscik/nimg_core/blob/master/pipelines/structural_volumetrics/baw.md\n",
    "\n",
    "1. Run the csv creator\n",
    "\n",
    "`/Shared/tientong_scratch/abcd/code/brainstools/BRAINSTools_csvcreator.sh`\n",
    "\n",
    "Note: BrainsTools expects all session number to be different - have to replace session (baselineYear1Arm1) to a series of random numbers/strings "
   ]
  },
  {
   "cell_type": "code",
   "execution_count": null,
   "metadata": {},
   "outputs": [],
   "source": [
    "%%bash\n",
    "\n",
    "bids=/Shared/tientong_scratch/abcd/rawdata\n",
    "\n",
    "# change session to a random hash\n",
    "\n",
    "for i in $bids/*/* ; do \n",
    " sub=(`echo $i | awk '{gsub(\"/\",\" \"); print $5}'| awk '{gsub(\"-\",\" \"); print $2}'`)\n",
    " ses=(`echo $i | awk '{gsub(\"/\",\" \"); print $6}'| awk '{gsub(\"-\",\" \"); print $2}'`)\n",
    " mv $i $bids/sub-${sub}/ses-`cat /dev/urandom | tr -cd 'a-f0-9' | head -c 16`\n",
    "done\n",
    "\n",
    "# save this random hash to a file\n",
    "\n",
    "ls -d $bids/*/*/ > /Shared/tientong_scratch/abcd/derivatives/baw/randomhash_200725.txt"
   ]
  },
  {
   "cell_type": "markdown",
   "metadata": {},
   "source": [
    "2. Make changes to the config file (on the lines written in the header\n",
    "\n",
    "`/Shared/tientong_scratch/abcd/code/brainstools/BRAINSTools.config`\n",
    "\n",
    "3. Run this BrainsTools on argon with\n",
    "\n",
    "`/Shared/tientong_scratch/abcd/code/brainstools/BRAINSTools_runbaw.sh`\n",
    "\n",
    "The steps are pasted below:"
   ]
  },
  {
   "cell_type": "code",
   "execution_count": null,
   "metadata": {},
   "outputs": [],
   "source": [
    "%%bash\n",
    "\n",
    "sh /Shared/tientong_scratch/abcd/code/brainstools/BRAINSTools_csvcreator.sh \\\n",
    " -r /Shared/tientong_scratch \\\n",
    " -p abcd \\\n",
    " -o /Shared/tientong_scratch/abcd/derivatives/baw/200725.csv"
   ]
  },
  {
   "cell_type": "code",
   "execution_count": null,
   "metadata": {},
   "outputs": [],
   "source": [
    "%%bash\n",
    "\n",
    "# run on argon\n",
    "\n",
    "export PATH=/Shared/pinc/sharedopt/apps/anaconda3/Linux/x86_64/4.3.0/bin:$PATH\n",
    "bash /Shared/tientong_scratch/abcd/code/brainstools/BRAINSTools_runbaw.sh \\\n",
    " -p 1 -s all \\\n",
    " -r SGEGraph \\\n",
    " -c /Shared/tientong_scratch/abcd/code/brainstools/BRAINSTools.config\n"
   ]
  },
  {
   "cell_type": "code",
   "execution_count": null,
   "metadata": {},
   "outputs": [],
   "source": [
    "%%bash\n",
    "\n",
    "## for subjects that failed brainstools with raw data, try to use n4-corrected\n",
    "\n",
    "unfinished_brainstools=($(ls /Shared/tientong_scratch/abcd/unfinished_brainstools/*/*/anat/*T1*.nii.gz))\n",
    "atroposn4_bids=/Shared/tientong_scratch/abcd/derivatives/atroposn4_bids\n",
    "unfinished_brainstools_n4=/Shared/tientong_scratch/abcd/unfinished_brainstools_n4\n",
    "n4dir=/Shared/tientong_scratch/abcd/derivatives/atroposn4\n",
    "\n",
    "for i in ${!bids[@]} ; do\n",
    " SUBJECT=`cut -d \"/\" -f6 <<< ${bids[$i]}`\n",
    " newSESSION=`cut -d \"/\" -f7 <<< ${bids[$i]}`\n",
    " oldSESSION='ses-baselineYear1Arm1'\n",
    " [ ! -d ${unfinished_brainstools_n4}/${SUBJECT}/${newSESSION}/anat/ ] && \\\n",
    " mkdir -p ${unfinished_brainstools_n4}/${SUBJECT}/${newSESSION}/anat/\n",
    " \n",
    " [ -f ${atroposn4_bids}/${SUBJECT}/${oldSESSION}/anat/${SUBJECT}_${oldSESSION}_T1w.nii.gz ] && \\\n",
    " cp ${atroposn4_bids}/${SUBJECT}/${oldSESSION}/anat/${SUBJECT}_${oldSESSION}_T1w.nii.gz \\\n",
    " ${unfinished_brainstools_n4}/${SUBJECT}/${newSESSION}/anat/${SUBJECT}_${newSESSION}_T1w.nii.gz\n",
    " \n",
    " [ -f $n4dir/${SUBJECT}/${oldSESSION}/T2w_Segmentation0N4.nii.gz ] && \\\n",
    " cp $n4dir/${SUBJECT}/${oldSESSION}/T2w_Segmentation0N4.nii.gz \\\n",
    " ${unfinished_brainstools_n4}/${SUBJECT}/${newSESSION}/anat/${SUBJECT}_${newSESSION}_T2w.nii.gz\n",
    "\n",
    "done\n",
    "\n",
    "sh /Shared/tientong_scratch/abcd/code/brainstools/BRAINSTools_csvcreator_n4.sh \\\n",
    " -r /Shared/tientong_scratch \\\n",
    " -p abcd \\\n",
    " -o /Shared/tientong_scratch/abcd/derivatives/baw/201119.csv\n",
    " \n",
    "# run on argon\n",
    "\n",
    "export PATH=/Shared/pinc/sharedopt/apps/anaconda3/Linux/x86_64/4.3.0/bin:$PATH\n",
    "bash /Shared/tientong_scratch/abcd/code/brainstools/BRAINSTools_runbaw.sh \\\n",
    " -p 1 -s all \\\n",
    " -r SGEGraph \\\n",
    " -c /Shared/tientong_scratch/abcd/code/brainstools/BRAINSTools.config\n"
   ]
  },
  {
   "cell_type": "code",
   "execution_count": null,
   "metadata": {},
   "outputs": [],
   "source": []
  },
  {
   "cell_type": "markdown",
   "metadata": {},
   "source": [
    "### Change all session to baselineYear1Arm1 - for only subjects with completed Brainstools\n",
    "\n",
    "First, get the list of completed brainstools"
   ]
  },
  {
   "cell_type": "code",
   "execution_count": null,
   "metadata": {},
   "outputs": [],
   "source": [
    "%%bash\n",
    "for i in /Shared/tientong_scratch/abcd/derivatives/baw/baw_200725_Results/abcd/[a-zA-Z0-9]*/[a-zA-Z0-9]* ; do \n",
    "sub=(`echo $i | awk '{gsub(\"/\",\" \"); print $8}'`)\n",
    "ses=(`echo $i | awk '{gsub(\"/\",\" \"); print $9}'`)\n",
    "printf \"${sub}\"'\\t'\"${ses}\"'\\n' >> /Shared/tientong_scratch/abcd/derivatives/baw/subject_uid_donebaw.txt\n",
    "done"
   ]
  },
  {
   "cell_type": "markdown",
   "metadata": {},
   "source": [
    "Then, use this list to rename session number for all subs with completed baw"
   ]
  },
  {
   "cell_type": "code",
   "execution_count": 16,
   "metadata": {},
   "outputs": [
    {
     "name": "stdout",
     "output_type": "stream",
     "text": [
      "0 1 2 3 4 5 6 7 8 9 10 11 12 13 14 15 16 17 18 19 20 21 22 23 24 25 26 27 28 29 30 31 32 33 34 35 36 37 38 39 40 41 42 43 44 45 46 47 48 49 50 51 52 53 54 55 56 57 58 59 60 61 62 63 64 65 66 67 68 69 70 71 72 73 74 75 76 77 78 79 80 81 82 83 84 85 86 87 88 89 90 91 92 93 94 95 96 97 98 99 100 101 102 103 104 105 106 107 108 109 110 111 112 113 114 115 116 117 118 119 120 121 122 123 124 125 126 127 128 129 130 131 132 133 134 135 136 137 138 139 140 141 142 143 144 145 146 147 148 149 150 151 152 153 154 155 156 157 158 159 160 161 162 163 164 165 166 167 168 169 170 171 172 173 174 175 176 177 178 179 180 181 182 183 184 185 186 187 188 189 190 191 192 193 194 195 196 197 198 199 200 201 202 203 204 205 206 207 208 209 210 211 212 213 214 215 216 217 218 219 220 221 222 223 224 225 226 227 228 229 230 231 232 233 234 235 236 237 238 239 240 241 242 243 244 245 246 247 248 249 250 251 252 253 254 255 256 257 258 259 260 261 262 263 264 265 266 267 268 269 270 271 272 273 274 275 276 277 278 279 280 281 282 283 284 285 286 287 288 289 290 291 292 293 294 295 296 297 298 299 300 301 302 303 304 305 306 307 308 309 310 311 312 313 314 315 316 317 318 319 320 321 322 323 324 325 326 327 328 329 330 331 332 333 334 335 336 337 338 339 340 341 342 343 344 345 346 347 348 349 350 351 352 353 354 355 356 357 358 359 360 361 362 363 364 365 366 367 368 369 370 371 372 373 374 375 376 377 378 379 380 381 382 383 384 385 386 387 388 389 390 391 392 393 394 395 396 397 398 399 400 401 402 403 404 405 406 407 408 409 410 411 412 413 414 415 416 417 418 419 420 421 422 423 424 425 426 427 428 429 430 431 432 433 434 435 436 437 438 439 440 441 442 443 444 445 446 447 448 449 450 451 452 453 454 455 456 457 458 459 460 461 462 463 464 465 466 467 468 469 470 471 472 473 474 475 476 477 478 479 480 481 482 483 484 485 486 487 488 489 490 491 492 493 494 495 496 497 498 499 500 501 502 503 504 505 506 507 508 509 510 511 512 513 514 515 516 517 518 519 520 521 522 523 524 525 526 527 528 529 530 531 532 533 534 535 536 537 538 539 540 541 542 543 544 545 546 547 548 549 550 551 552 553 554 555 556 557 558 559 560 561 562 563 564 565 566 567 568 569 570 571 572 573 574 575 576 577 578 579 580 581 582 583 584 585 586 587 588 589 590 591 592 593 594 595 596 597 598 599 600 601 602 603 604 605 606 607 608 609 610 611 612 613 614 615 616 617 618 619 620 621 622 623 624 625 626 627 628 629 630 631 632 633 634 635 636 637 638 639 640 641 642 643 644 645 646 647 648 649 650 651 652 653 654 655 656 657 658 659 660 661 662 663 664 665 666 667 668 669 670 671 672 673 674 675 676 677 678 679 680 681 682 683 684 685 686 687 688 689 690 691 692 693 694 695 696 697 698 699 700 701 702 703 704 705 706 707 708 709 710 711 712 713 714 715 716 717 718 719 720 721 722 723 724 725 726 727 728 729 730 731 732 733 734 735 736 737 738 739 740 741 742 743 744 745 746 747 748 749 750 751 752 753 754 755 756 757 758 759 760 761 762 763 764 765 766 767 768 769 770 771 772 773 774 775 776 777 778 779 780 781 782 783 784 785 786 787 788 789 790 791 792 793 794 795 796 797 798 799 800 801 802 803 804 805 806 807 808 809 810 811 812 813 814 815 816 817 818 819 820 821 822 823 824 825 826 827 828 829 830 831 832 833 834 835 836 837 838 839 840 841 842 843 844 845 846 847 848 849 850 851 852 853 854 855 856 857 858 859 860 861 862 863 864 865 866 867 868 869 870 871 872 873 874 875 876 877 878 879 880\n"
     ]
    }
   ],
   "source": [
    "print (*range(881), sep=' ')"
   ]
  },
  {
   "cell_type": "code",
   "execution_count": null,
   "metadata": {},
   "outputs": [],
   "source": [
    "%%bash\n",
    "sub=($(awk '{print $1}' /Shared/tientong_scratch/abcd/derivatives/baw/subject_uid_donebaw.txt))\n",
    "ses=($(awk '{print $2}' /Shared/tientong_scratch/abcd/derivatives/baw/subject_uid_donebaw.txt))\n",
    "\n",
    "#bawdir=/Shared/tientong_scratch/abcd/derivatives/baw/baw200129_Results/abcd\n",
    "rawdir=/Shared/tientong_scratch/abcd/rawdata\n",
    "\n",
    "for n in 0 1 2 3 4 5 6 7 8 9 10 11 12 13 14 15 16 17 18 19 20 21 22 23 24 25 26 27 28 29 30 31 32 33 34 35 36 37 38 39 40 41 42 43 44 45 46 47 48 49 50 51 52 53 54 55 56 57 58 59 60 61 62 63 64 65 66 67 68 69 70 71 72 73 74 75 76 77 78 79 80 81 82 83 84 85 86 87 88 89 90 91 92 93 94 95 96 97 98 99 100 101 102 103 104 105 106 107 108 109 110 111 112 113 114 115 116 117 118 119 120 121 122 123 124 125 126 127 128 129 130 131 132 133 134 135 136 137 138 139 140 141 142 143 144 145 146 147 148 149 150 151 152 153 154 155 156 157 158 159 160 161 162 163 164 165 166 167 168 169 170 171 172 173 174 175 176 177 178 179 180 181 182 183 184 185 186 187 188 189 190 191 192 193 194 195 196 197 198 199 200 201 202 203 204 205 206 207 208 209 210 211 212 213 214 215 216 217 218 219 220 221 222 223 224 225 226 227 228 229 230 231 232 233 234 235 236 237 238 239 240 241 242 243 244 245 246 247 248 249 250 251 252 253 254 255 256 257 258 259 260 261 262 263 264 265 266 267 268 269 270 271 272 273 274 275 276 277 278 279 280 281 282 283 284 285 286 287 288 289 290 291 292 293 294 295 296 297 298 299 300 301 302 303 304 305 306 307 308 309 310 311 312 313 314 315 316 317 318 319 320 321 322 323 324 325 326 327 328 329 330 331 332 333 334 335 336 337 338 339 340 341 342 343 344 345 346 347 348 349 350 351 352 353 354 355 356 357 358 359 360 361 362 363 364 365 366 367 368 369 370 371 372 373 374 375 376 377 378 379 380 381 382 383 384 385 386 387 388 389 390 391 392 393 394 395 396 397 398 399 400 401 402 403 404 405 406 407 408 409 410 411 412 413 414 415 416 417 418 419 420 421 422 423 424 425 426 427 428 429 430 431 432 433 434 435 436 437 438 439 440 441 442 443 444 445 446 447 448 449 450 451 452 453 454 455 456 457 458 459 460 461 462 463 464 465 466 467 468 469 470 471 472 473 474 475 476 477 478 479 480 481 482 483 484 485 486 487 488 489 490 491 492 493 494 495 496 497 498 499 500 501 502 503 504 505 506 507 508 509 510 511 512 513 514 515 516 517 518 519 520 521 522 523 524 525 526 527 528 529 530 531 532 533 534 535 536 537 538 539 540 541 542 543 544 545 546 547 548 549 550 551 552 553 554 555 556 557 558 559 560 561 562 563 564 565 566 567 568 569 570 571 572 573 574 575 576 577 578 579 580 581 582 583 584 585 586 587 588 589 590 591 592 593 594 595 596 597 598 599 600 601 602 603 604 605 606 607 608 609 610 611 612 613 614 615 616 617 618 619 620 621 622 623 624 625 626 627 628 629 630 631 632 633 634 635 636 637 638 639 640 641 642 643 644 645 646 647 648 649 650 651 652 653 654 655 656 657 658 659 660 661 662 663 664 665 666 667 668 669 670 671 672 673 674 675 676 677 678 679 680 681 682 683 684 685 686 687 688 689 690 691 692 693 694 695 696 697 698 699 700 701 702 703 704 705 706 707 708 709 710 711 712 713 714 715 716 717 718 719 720 721 722 723 724 725 726 727 728 729 730 731 732 733 734 735 736 737 738 739 740 741 742 743 744 745 746 747 748 749 750 751 752 753 754 755 756 757 758 759 760 761 762 763 764 765 766 767 768 769 770 771 772 773 774 775 776 777 778 779 780 781 782 783 784 785 786 787 788 789 790 791 792 793 794 795 796 797 798 799 800 801 802 803 804 805 806 807 808 809 810 811 812 813 814 815 816 817 818 819 820 821 822 823 824 825 826 827 828 829 830 831 832 833 834 835 836 837 838 839 840 841 842 843 844 845 846 847 848 849 850 851 852 853 854 855 856 857 858 859 860 861 862 863 864 865 866 867 868 869 870 871 872 873 874 875 876 877 878 879 880 ; do\n",
    "#mv ${bawdir}/${sub[$n]}/${ses[$n]} ${bawdir}/${sub[$n]}/ses-baselineYear1Arm1\n",
    "mv ${rawdir}/${sub[$n]}/* ${rawdir}/${sub[$n]}/ses-baselineYear1Arm1\n",
    "\n",
    "done"
   ]
  },
  {
   "cell_type": "markdown",
   "metadata": {},
   "source": [
    "## split the csv into smaller file (100 subjects each) then rerun\n",
    "\n",
    "split code: /Shared/tientong_scratch/abcd/derivatives/baw/split_file.R\n",
    "change csv_filename before rerun: /Shared/tientong_scratch/abcd/code/brainstools/BRAINSTools.config"
   ]
  },
  {
   "cell_type": "code",
   "execution_count": null,
   "metadata": {},
   "outputs": [],
   "source": [
    "%%bash\n",
    "\n",
    "# run on argon\n",
    "\n",
    "export PATH=/Shared/pinc/sharedopt/apps/anaconda3/Linux/x86_64/4.3.0/bin:$PATH\n",
    "bash /Shared/tientong_scratch/abcd/code/brainstools/BRAINSTools_runbaw.sh \\\n",
    " -p 1 -s all \\\n",
    " -r SGEGraph \\\n",
    " -c /Shared/tientong_scratch/abcd/code/brainstools/BRAINSTools.config\n"
   ]
  },
  {
   "cell_type": "markdown",
   "metadata": {},
   "source": [
    "## check if BRAINSTools pipeline was successful"
   ]
  },
  {
   "cell_type": "code",
   "execution_count": 1,
   "metadata": {},
   "outputs": [],
   "source": [
    "import pandas as pd\n",
    "import os, glob\n",
    "import numpy as np\n",
    "import shutil\n",
    "import csv"
   ]
  },
  {
   "cell_type": "code",
   "execution_count": 2,
   "metadata": {},
   "outputs": [],
   "source": [
    "csvfile = pd.read_csv(\"/Shared/tientong_scratch/abcd/derivatives/baw/200725.csv\", sep=\",\", header=None)\n",
    "bawdir=\"/Shared/tientong_scratch/abcd/derivatives/baw/baw_200725_Results/abcd/\"\n",
    "cachedir=\"/Shared/tientong_scratch/abcd/derivatives/baw/baw_200725_CACHE/\"\n",
    "allVol = \"/JointFusion/allVol/labelVolume.csv\"\n",
    "lobeVol = \"/JointFusion/lobeVol/labelVolume.csv\"\n",
    "t1baw = \"/TissueClassify/t1_average_BRAINSABC.nii.gz\"\n",
    "t2baw = \"/TissueClassify/t2_average_BRAINSABC.nii.gz\""
   ]
  },
  {
   "cell_type": "code",
   "execution_count": 3,
   "metadata": {},
   "outputs": [
    {
     "name": "stdout",
     "output_type": "stream",
     "text": [
      "sub-NDARINVCX7YWXVP/ses-8316c5ade8e56406 no label\n",
      "sub-NDARINVCX7YWXVP/ses-8316c5ade8e56406 no T1 normalized\n",
      "sub-NDARINVCX7YWXVP/ses-8316c5ade8e56406 no T2 normalized\n",
      "sub-NDARINVDWRM6BPD/ses-4277f6c914376e20 no label\n",
      "sub-NDARINVDWRM6BPD/ses-4277f6c914376e20 no T1 normalized\n",
      "sub-NDARINVGNV5ZKU4/ses-b7ad555fc01f518e no label\n",
      "sub-NDARINVGNV5ZKU4/ses-b7ad555fc01f518e no T1 normalized\n",
      "sub-NDARINVGNV5ZKU4/ses-b7ad555fc01f518e no T2 normalized\n",
      "sub-NDARINVHTAJ1KYF/ses-7997441aa88282cf no label\n",
      "sub-NDARINVHTAJ1KYF/ses-7997441aa88282cf no T1 normalized\n",
      "sub-NDARINVHTAJ1KYF/ses-7997441aa88282cf no T2 normalized\n",
      "sub-NDARINVKDZKAC4L/ses-9fddd0951b6ce64f no label\n",
      "sub-NDARINVKDZKAC4L/ses-9fddd0951b6ce64f no T1 normalized\n",
      "sub-NDARINVKDZKAC4L/ses-9fddd0951b6ce64f no T2 normalized\n",
      "sub-NDARINVR0MVDXDK/ses-30a6c56519ab3740 no label\n",
      "sub-NDARINVR0MVDXDK/ses-30a6c56519ab3740 no T1 normalized\n",
      "sub-NDARINVR0MVDXDK/ses-30a6c56519ab3740 no T2 normalized\n"
     ]
    }
   ],
   "source": [
    "for subjectid in csvfile[1]:\n",
    "    sub=subjectid\n",
    "    \n",
    "    if os.path.exists(bawdir + sub):\n",
    "        ses=os.listdir(bawdir + sub)[0]\n",
    "\n",
    "    sub_df = csvfile[csvfile[1]==sub]\n",
    "    sub_df.reset_index(inplace=True)\n",
    "\n",
    "    if 'T1-30' in sub_df[3][0]:\n",
    "        t1 = 1\n",
    "    else:\n",
    "        t1=0\n",
    "    if 'T2-30' in sub_df[3][0]:\n",
    "        t2 = 1\n",
    "    else:\n",
    "        t2=0\n",
    "\n",
    "    if (os.path.exists(bawdir + sub + '/' + ses + allVol) and \n",
    "        os.path.exists(bawdir + sub + '/' + ses + lobeVol)):\n",
    "        label = True\n",
    "    else:\n",
    "        label = False    \n",
    "\n",
    "    if ((t1 == 1) and \n",
    "       (os.path.exists(bawdir + sub + '/' + ses + t1baw))):\n",
    "        t1norm = True\n",
    "    else:\n",
    "        t1norm = False\n",
    "\n",
    "    if (((t2 == 1) and (os.path.exists(bawdir + sub + '/' + ses + t2baw))) \n",
    "        or ((t2 == 0) and (not os.path.exists(bawdir + sub + '/' + ses + t2baw)))):\n",
    "        t2norm = True\n",
    "    else:\n",
    "        t2norm = False\n",
    "        \n",
    "    if (not os.path.exists(bawdir + sub)) or label==False:\n",
    "        print(\"{}/{} no label\".format(sub, ses))\n",
    "    if t1norm==False:\n",
    "        print(\"{}/{} no T1 normalized\".format(sub, ses))\n",
    "    if t2norm==False:  \n",
    "        print(\"{}/{} no T2 normalized\".format(sub, ses))"
   ]
  },
  {
   "cell_type": "code",
   "execution_count": 4,
   "metadata": {},
   "outputs": [],
   "source": [
    "analyze = []\n",
    "for subjectid in csvfile[1]:\n",
    "    sub=subjectid\n",
    "    \n",
    "    if os.path.exists(bawdir + sub):\n",
    "        ses=os.listdir(bawdir + sub)[0]\n",
    "\n",
    "    sub_df = csvfile[csvfile[1]==sub]\n",
    "    sub_df.reset_index(inplace=True)\n",
    "\n",
    "    if 'T1-30' in sub_df[3][0]:\n",
    "        t1 = 1\n",
    "    else:\n",
    "        t1=0\n",
    "    if 'T2-30' in sub_df[3][0]:\n",
    "        t2 = 1\n",
    "    else:\n",
    "        t2=0\n",
    "\n",
    "    if (os.path.exists(bawdir + sub + '/' + ses + allVol) and \n",
    "        os.path.exists(bawdir + sub + '/' + ses + lobeVol)):\n",
    "        label = True\n",
    "    else:\n",
    "        label = False    \n",
    "\n",
    "    if ((t1 == 1) and \n",
    "       (os.path.exists(bawdir + sub + '/' + ses + t1baw))):\n",
    "        t1norm = True\n",
    "    else:\n",
    "        t1norm = False\n",
    "\n",
    "    if (((t2 == 1) and (os.path.exists(bawdir + sub + '/' + ses + t2baw))) \n",
    "        or ((t2 == 0) and (not os.path.exists(bawdir + sub + '/' + ses + t2baw)))):\n",
    "        t2norm = True\n",
    "    else:\n",
    "        t2norm = False\n",
    "        \n",
    "    if ((not os.path.exists(bawdir + sub)) or label==False or t1norm==False  or t2norm==False):\n",
    "        analyze.append(sub)\n"
   ]
  },
  {
   "cell_type": "code",
   "execution_count": 5,
   "metadata": {},
   "outputs": [],
   "source": [
    "mask = csvfile[1].isin(analyze)\n",
    "analyze_df = csvfile[mask]\n",
    "done = csvfile[~mask]\n",
    "done.reset_index(inplace=True)\n",
    "\n",
    "analyze_df.to_csv('/Shared/tientong_scratch/abcd/derivatives/baw/200910.csv', \n",
    "                  sep=',', index = False, header = False, quoting=csv.QUOTE_NONNUMERIC)"
   ]
  },
  {
   "cell_type": "code",
   "execution_count": null,
   "metadata": {},
   "outputs": [],
   "source": []
  },
  {
   "cell_type": "code",
   "execution_count": null,
   "metadata": {},
   "outputs": [],
   "source": [
    "for subjectid in csvfile[1]:\n",
    "    sub=subjectid\n",
    "    #sub=\"sub-NDARINVFF0AUTMG\"\n",
    "\n",
    "    if os.path.exists(bawdir + sub):\n",
    "        ses=os.listdir(bawdir + sub)[0]\n",
    "\n",
    "    sub_df = csvfile[csvfile[1]==sub]\n",
    "    sub_df.reset_index(inplace=True)\n",
    "\n",
    "    if 'T1-30' in sub_df[3][0]:\n",
    "        t1 = 1\n",
    "    else:\n",
    "        t1=0\n",
    "    if 'T2-30' in sub_df[3][0]:\n",
    "        t2 = 1\n",
    "    else:\n",
    "        t2=0\n",
    "\n",
    "    if (os.path.exists(bawdir + sub + '/' + ses + allVol) and \n",
    "        os.path.exists(bawdir + sub + '/' + ses + lobeVol)):\n",
    "        label = True\n",
    "    else:\n",
    "        label = False    \n",
    "\n",
    "    if ((t1 == 1) and \n",
    "       (os.path.exists(bawdir + sub + '/' + ses + t1baw))):\n",
    "        t1norm = True\n",
    "    else:\n",
    "        t1norm = False\n",
    "\n",
    "    if ((t2 == 1) and (os.path.exists(bawdir + sub + '/' + ses + t2baw))):\n",
    "        t2norm = True\n",
    "    else:\n",
    "        t2norm = False\n",
    "\n",
    "    if label==True and t1norm==True and t2norm==True:\n",
    "        if ((os.path.getmtime(bawdir + sub + '/' + ses + allVol) > os.path.getmtime(bawdir + sub + '/' + ses + t1baw))\n",
    "            and (os.path.getmtime(bawdir + sub + '/' + ses + allVol) > os.path.getmtime(bawdir + sub + '/' + ses + t2baw))):\n",
    "            print(\"{}: correct file order\".format(sub))\n",
    "        else:\n",
    "            print(\"{}: CHECK!\".format(sub))\n",
    "\n",
    "    if label==True and t1norm==True:\n",
    "        if (os.path.getmtime(bawdir + sub + '/' + ses + allVol) > os.path.getmtime(bawdir + sub + '/' + ses + t1baw)):\n",
    "            print(\"{}: correct file order\".format(sub))\n",
    "        else:\n",
    "            print(\"{}: CHECK!\".format(sub))"
   ]
  },
  {
   "cell_type": "markdown",
   "metadata": {},
   "source": [
    "## Delete cached data of subjects that have successfully run through the pipeline"
   ]
  },
  {
   "cell_type": "code",
   "execution_count": 10,
   "metadata": {},
   "outputs": [],
   "source": [
    "for index in range(len(analyze)): \n",
    "\n",
    "    sub=analyze_df[1][index]\n",
    "    ses=analyze_df[2][index]\n",
    "    \n",
    "    if os.path.exists(cachedir + \"singleSession_\" + sub + '_' + ses):\n",
    "        shutil.rmtree(cachedir + \"singleSession_\" + sub + '_' + ses)\n",
    "    if os.path.exists(bawdir + sub):\n",
    "        shutil.rmtree(bawdir + sub)"
   ]
  },
  {
   "cell_type": "code",
   "execution_count": 8,
   "metadata": {},
   "outputs": [],
   "source": [
    "analyze_df.reset_index(inplace=True)"
   ]
  },
  {
   "cell_type": "code",
   "execution_count": null,
   "metadata": {},
   "outputs": [],
   "source": []
  },
  {
   "cell_type": "code",
   "execution_count": null,
   "metadata": {},
   "outputs": [],
   "source": []
  },
  {
   "cell_type": "code",
   "execution_count": null,
   "metadata": {},
   "outputs": [],
   "source": []
  }
 ],
 "metadata": {
  "kernelspec": {
   "display_name": "Python 3",
   "language": "python",
   "name": "python3"
  },
  "language_info": {
   "codemirror_mode": {
    "name": "ipython",
    "version": 3
   },
   "file_extension": ".py",
   "mimetype": "text/x-python",
   "name": "python",
   "nbconvert_exporter": "python",
   "pygments_lexer": "ipython3",
   "version": "3.7.2"
  }
 },
 "nbformat": 4,
 "nbformat_minor": 2
}
