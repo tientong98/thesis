{
 "cells": [
  {
   "cell_type": "markdown",
   "metadata": {},
   "source": [
    "# First step: ANTS atropos N4\n",
    "\n",
    "* code: /Shared/tientong_scratch/abcd/code/freesurfer/n4\n",
    "* template: /Shared/tientong_scratch/abcd/code/freesurfer/n4/template\n",
    "* T1 scripts: /Shared/tientong_scratch/abcd/code/freesurfer/n4/t1scripts\n",
    "* T2 scripts: /Shared/tientong_scratch/abcd/code/freesurfer/n4/t2scripts"
   ]
  },
  {
   "cell_type": "code",
   "execution_count": null,
   "metadata": {},
   "outputs": [],
   "source": []
  },
  {
   "cell_type": "code",
   "execution_count": null,
   "metadata": {},
   "outputs": [],
   "source": [
    "%%bash\n",
    "\n",
    "n4dir=/Shared/tientong_scratch/abcd/derivatives/atroposn4\n",
    "n4dir_bids=/Shared/tientong_scratch/abcd/derivatives/atroposn4_bids\n",
    "bids=/Shared/tientong_scratch/abcd/rawdata\n",
    "\n",
    "cp /Shared/tientong_scratch/abcd/rawdata/*.json $n4dir_bids\n",
    "\n",
    "t1n4=($(ls $n4dir/*/*/T1w_Segmentation0N4.nii.gz))\n",
    "for i in ${!t1n4[@]} ; do\n",
    "  sub=`cut -d \"/\" -f7 <<< ${t1n4[$i]}`\n",
    "  ses=`cut -d \"/\" -f8 <<< ${t1n4[$i]}`\n",
    "  mkdir -p $n4dir_bids/$sub/${ses}/anat\n",
    "  cp $n4dir/$sub/${ses}/T1w_Segmentation0N4.nii.gz \\\n",
    "     $n4dir_bids/$sub/${ses}/anat/${sub}_${ses}_T1w.nii.gz \n",
    "done\n",
    "\n",
    "\n",
    "# t2n4=($(ls $n4dir/*/*/T2w_Segmentation0N4.nii.gz))\n",
    "# for i in ${!t2n4[@]} ; do\n",
    "#   sub=`cut -d \"/\" -f7 <<< ${t2n4[$i]}`\n",
    "#   ses=`cut -d \"/\" -f8 <<< ${t2n4[$i]}`\n",
    "#   [ ! -d $n4dir_bids/$sub/${ses}/anat ] && mkdir -p $n4dir_bids/$sub/${ses}/anat\n",
    "#   cp $n4dir/$sub/${ses}/T2w_Segmentation0N4.nii.gz \\\n",
    "#      $n4dir_bids/$sub/${ses}/anat/${sub}_${ses}_T2w.nii.gz \n",
    "# done\n",
    "\n",
    "\n",
    "t1json=($(ls $bids/*/*/anat/*T1w*.json))\n",
    "for i in ${!t1json[@]} ; do\n",
    "  sub=`cut -d \"/\" -f6 <<< ${t1json[$i]}`\n",
    "  ses=`cut -d \"/\" -f7 <<< ${t1json[$i]}`\n",
    "  cp $bids/$sub/${ses}/anat/*T1w*.json \\\n",
    "     $n4dir_bids/$sub/${ses}/anat/${sub}_${ses}_T1w.json \n",
    "done"
   ]
  },
  {
   "cell_type": "code",
   "execution_count": null,
   "metadata": {},
   "outputs": [],
   "source": []
  },
  {
   "cell_type": "markdown",
   "metadata": {},
   "source": [
    "## T1 Failed N4 = 43\n",
    "\n",
    "logs=/Shared/tientong_scratch/abcd/code/derivative_logs/n4_t1\n",
    "\n",
    "    sub-NDARINV6YMY7HCD_ses-baselineYear1Arm1_AtroposN4_T1w.sh.e4325796\n",
    "    sub-NDARINV6J9PLWZH_ses-baselineYear1Arm1_AtroposN4_T1w.sh.e4325784\n",
    "    sub-NDARINV7MNYK138_ses-baselineYear1Arm1_AtroposN4_T1w.sh.e4325823\n",
    "    sub-NDARINV7N6YDNYD_ses-baselineYear1Arm1_AtroposN4_T1w.sh.e4325825\n",
    "    sub-NDARINVR6CE8KZ5_ses-baselineYear1Arm1_AtroposN4_T1w.sh.e4326272\n",
    "    sub-NDARINVRKVU6VEC_ses-baselineYear1Arm1_AtroposN4_T1w.sh.e4326289\n",
    "    sub-NDARINVYUXB5PRZ_ses-baselineYear1Arm1_AtroposN4_T1w.sh.e4326457\n",
    "    sub-NDARINVY539E129_ses-baselineYear1Arm1_AtroposN4_T1w.sh.e4326443\n",
    "    sub-NDARINV3Z5E0931_ses-baselineYear1Arm1_AtroposN4_T1w.sh.e4325712\n",
    "    sub-NDARINV65NLFHYD_ses-baselineYear1Arm1_AtroposN4_T1w.sh.e4325774\n",
    "    sub-NDARINVMBVX3LHF_ses-baselineYear1Arm1_AtroposN4_T1w.sh.e4326198\n",
    "    sub-NDARINV2HYAENE6_ses-baselineYear1Arm1_AtroposN4_T1w.sh.e4325671\n",
    "    sub-NDARINV70FU58C1_ses-baselineYear1Arm1_AtroposN4_T1w.sh.e4325799\n",
    "    sub-NDARINV838THCGU_ses-baselineYear1Arm1_AtroposN4_T1w.sh.e4325831\n",
    "    sub-NDARINV8V6A6DDE_ses-baselineYear1Arm1_AtroposN4_T1w.sh.e4325851\n",
    "    sub-NDARINVAU57LP5P_ses-baselineYear1Arm1_AtroposN4_T1w.sh.e4325902\n",
    "    sub-NDARINVB4TY8LVM_ses-baselineYear1Arm1_AtroposN4_T1w.sh.e4325910\n",
    "    sub-NDARINVF6MPJW7M_ses-baselineYear1Arm1_AtroposN4_T1w.sh.e4326020\n",
    "    sub-NDARINVHXTUD5RJ_ses-baselineYear1Arm1_AtroposN4_T1w.sh.e4326097\n",
    "    sub-NDARINVKX88859E_ses-baselineYear1Arm1_AtroposN4_T1w.sh.e4326160\n",
    "    sub-NDARINVL02ZXJAE_ses-baselineYear1Arm1_AtroposN4_T1w.sh.e4326161\n",
    "    sub-NDARINVR2JZ1RD8_ses-baselineYear1Arm1_AtroposN4_T1w.sh.e4326269\n",
    "    sub-NDARINVR9WMMP2W_ses-baselineYear1Arm1_AtroposN4_T1w.sh.e4326276\n",
    "    sub-NDARINVVGVFRTZC_ses-baselineYear1Arm1_AtroposN4_T1w.sh.e4326373\n",
    "    sub-NDARINVVM0UX0L1_ses-baselineYear1Arm1_AtroposN4_T1w.sh.e4326377\n",
    "    sub-NDARINVWCB3M1XX_ses-baselineYear1Arm1_AtroposN4_T1w.sh.e4326393\n",
    "    sub-NDARINVZL4VD4CA_ses-baselineYear1Arm1_AtroposN4_T1w.sh.e4326476\n",
    "    sub-NDARINVH5RD2CM2_ses-baselineYear1Arm1_AtroposN4_T1w.sh.e4326075\n",
    "    sub-NDARINV0B7UGM1D_ses-baselineYear1Arm1_AtroposN4_T1w.sh.e4325609\n",
    "    sub-NDARINV7ZN09VAT_ses-baselineYear1Arm1_AtroposN4_T1w.sh.e4325829\n",
    "    sub-NDARINV02H7G2T6_ses-baselineYear1Arm1_AtroposN4_T1w.sh.e4325600\n",
    "    sub-NDARINV3933Z8FN_ses-baselineYear1Arm1_AtroposN4_T1w.sh.e4325691\n",
    "    sub-NDARINVAJNNT0JH_ses-baselineYear1Arm1_AtroposN4_T1w.sh.e4325895\n",
    "    sub-NDARINVL1FL82DL_ses-baselineYear1Arm1_AtroposN4_T1w.sh.e4326163\n",
    "    sub-NDARINV7L9EAFEX_ses-baselineYear1Arm1_AtroposN4_T1w.sh.e4325820\n",
    "    sub-NDARINVCE2AYCK6_ses-baselineYear1Arm1_AtroposN4_T1w.sh.e4325946\n",
    "    sub-NDARINVF0GZLPC2_ses-baselineYear1Arm1_AtroposN4_T1w.sh.e4326014\n",
    "    sub-NDARINVK9RPEUC1_ses-baselineYear1Arm1_AtroposN4_T1w.sh.e4326142\n",
    "    sub-NDARINVKKTCT4B0_ses-baselineYear1Arm1_AtroposN4_T1w.sh.e4326150\n",
    "    sub-NDARINVMWTUT7TZ_ses-baselineYear1Arm1_AtroposN4_T1w.sh.e4326215\n",
    "    sub-NDARINVAWU4PL84_ses-baselineYear1Arm1_AtroposN4_T1w.sh.e4325903\n",
    "    sub-NDARINVH5L260UZ_ses-baselineYear1Arm1_AtroposN4_T1w.sh.e4326074\n",
    "    sub-NDARINVK2KR1DUA_ses-baselineYear1Arm1_AtroposN4_T1w.sh.e4326136\n",
    "\n",
    "\n",
    "## T2 Failed N4 = 45\n",
    "\n",
    "logs=/Shared/tientong_scratch/abcd/code/derivative_logs/n4_t2\n",
    "\n",
    "    sub-NDARINV6YMY7HCD_ses-baselineYear1Arm1_AtroposN4_T2w.sh.e4326664\n",
    "    sub-NDARINV3Z5E0931_ses-baselineYear1Arm1_AtroposN4_T2w.sh.e4326592\n",
    "    sub-NDARINV8V6A6DDE_ses-baselineYear1Arm1_AtroposN4_T2w.sh.e4326716\n",
    "    sub-NDARINVB4TY8LVM_ses-baselineYear1Arm1_AtroposN4_T2w.sh.e4326772\n",
    "    sub-NDARINVKX88859E_ses-baselineYear1Arm1_AtroposN4_T2w.sh.e4327004\n",
    "    sub-NDARINVAJNNT0JH_ses-baselineYear1Arm1_AtroposN4_T2w.sh.e4326757\n",
    "    sub-NDARINV2HYAENE6_ses-baselineYear1Arm1_AtroposN4_T2w.sh.e4326555\n",
    "    sub-NDARINV3933Z8FN_ses-baselineYear1Arm1_AtroposN4_T2w.sh.e4326573\n",
    "    sub-NDARINV70FU58C1_ses-baselineYear1Arm1_AtroposN4_T2w.sh.e4326667\n",
    "    sub-NDARINV7LWNRC3F_ses-baselineYear1Arm1_AtroposN4_T2w.sh.e4326688\n",
    "    sub-NDARINV7MNYK138_ses-baselineYear1Arm1_AtroposN4_T2w.sh.e4326690\n",
    "    sub-NDARINV838THCGU_ses-baselineYear1Arm1_AtroposN4_T2w.sh.e4326696\n",
    "    sub-NDARINVAU57LP5P_ses-baselineYear1Arm1_AtroposN4_T2w.sh.e4326764\n",
    "    sub-NDARINVF6MPJW7M_ses-baselineYear1Arm1_AtroposN4_T2w.sh.e4326875\n",
    "    sub-NDARINVL02ZXJAE_ses-baselineYear1Arm1_AtroposN4_T2w.sh.e4327005\n",
    "    sub-NDARINVMBVX3LHF_ses-baselineYear1Arm1_AtroposN4_T2w.sh.e4327041\n",
    "    sub-NDARINVR6CE8KZ5_ses-baselineYear1Arm1_AtroposN4_T2w.sh.e4327110\n",
    "    sub-NDARINVR9WMMP2W_ses-baselineYear1Arm1_AtroposN4_T2w.sh.e4327114\n",
    "    sub-NDARINVVM0UX0L1_ses-baselineYear1Arm1_AtroposN4_T2w.sh.e4327210\n",
    "    sub-NDARINVWCB3M1XX_ses-baselineYear1Arm1_AtroposN4_T2w.sh.e4327224\n",
    "    sub-NDARINVYUXB5PRZ_ses-baselineYear1Arm1_AtroposN4_T2w.sh.e4327286\n",
    "    sub-NDARINV9NMAFFJR_ses-baselineYear1Arm1_AtroposN4_T2w.sh.e4326735\n",
    "    sub-NDARINVHXTUD5RJ_ses-baselineYear1Arm1_AtroposN4_T2w.sh.e4326947\n",
    "    sub-NDARINVRKVU6VEC_ses-baselineYear1Arm1_AtroposN4_T2w.sh.e4327125\n",
    "    sub-NDARINV7L9EAFEX_ses-baselineYear1Arm1_AtroposN4_T2w.sh.e4326687\n",
    "    sub-NDARINV7N6YDNYD_ses-baselineYear1Arm1_AtroposN4_T2w.sh.e4326691\n",
    "    sub-NDARINV956TANLH_ses-baselineYear1Arm1_AtroposN4_T2w.sh.e4326728\n",
    "    sub-NDARINVCE2AYCK6_ses-baselineYear1Arm1_AtroposN4_T2w.sh.e4326804\n",
    "    sub-NDARINVZL4VD4CA_ses-baselineYear1Arm1_AtroposN4_T2w.sh.e4327304\n",
    "    sub-NDARINVY539E129_ses-baselineYear1Arm1_AtroposN4_T2w.sh.e4327273\n",
    "    sub-NDARINV7ZN09VAT_ses-baselineYear1Arm1_AtroposN4_T2w.sh.e4326694\n",
    "    sub-NDARINVH5L260UZ_ses-baselineYear1Arm1_AtroposN4_T2w.sh.e4326925\n",
    "    sub-NDARINVH5RD2CM2_ses-baselineYear1Arm1_AtroposN4_T2w.sh.e4326926\n",
    "    sub-NDARINV0B7UGM1D_ses-baselineYear1Arm1_AtroposN4_T2w.sh.e4326500\n",
    "    sub-NDARINV02H7G2T6_ses-baselineYear1Arm1_AtroposN4_T2w.sh.e4326493\n",
    "    sub-NDARINVF0GZLPC2_ses-baselineYear1Arm1_AtroposN4_T2w.sh.e4326870\n",
    "    sub-NDARINVL1FL82DL_ses-baselineYear1Arm1_AtroposN4_T2w.sh.e4327007\n",
    "    sub-NDARINVMWTUT7TZ_ses-baselineYear1Arm1_AtroposN4_T2w.sh.e4327055\n",
    "    sub-NDARINVTKKV0L4H_ses-baselineYear1Arm1_AtroposN4_T2w.sh.e4327150\n",
    "    sub-NDARINVVGVFRTZC_ses-baselineYear1Arm1_AtroposN4_T2w.sh.e4327206\n",
    "    sub-NDARINVKKTCT4B0_ses-baselineYear1Arm1_AtroposN4_T2w.sh.e4326996\n",
    "    sub-NDARINV0LEM88KP_ses-baselineYear1Arm1_AtroposN4_T2w.sh.e4326507\n",
    "    sub-NDARINVAWU4PL84_ses-baselineYear1Arm1_AtroposN4_T2w.sh.e4326765\n",
    "    sub-NDARINVBH1HTPR0_ses-baselineYear1Arm1_AtroposN4_T2w.sh.e4326782\n",
    "    sub-NDARINVK2KR1DUA_ses-baselineYear1Arm1_AtroposN4_T2w.sh.e4326983  "
   ]
  },
  {
   "cell_type": "markdown",
   "metadata": {},
   "source": [
    "# bug\n",
    "\n",
    "https://github.com/SimpleITK/SimpleITK/issues/750"
   ]
  },
  {
   "cell_type": "code",
   "execution_count": null,
   "metadata": {},
   "outputs": [],
   "source": [
    "# set physical info\n",
    "i.SetSpacing([1.0]*3)\n",
    "i.SetDirection([1.0,0.0,0.0,0.0,1.0,0.0,0.0,0.0,1.0])\n",
    "\n",
    "img_mask = sitk.OtsuThreshold(i)\n",
    "img_mask.SetSpacing([1.0]*3)\n",
    "img_mask.SetDirection([1.0,0.0,0.0,0.0,1.0,0.0,0.0,0.0,1.0])\n",
    "print(img_mask.GetSpacing())\n",
    "print(img_mask.GetDirection())\n",
    "new = sitk.Cast(i, sitk.sitkFloat32)\n",
    "print(new.GetSpacing())\n",
    "print(new.GetDirection())\n",
    "corrector = sitk.N4BiasFieldCorrectionImageFilter()\n",
    "out=corrector.Execute(new, img_mask)\n",
    "print(out.GetSpacing())\n",
    "print(out.GetDirection())\n",
    "# restore physical\n",
    "out.SetSpacing(spacing)\n",
    "out.SetDirection(direction)##filter n4itk\n",
    "img_arrey = sitk.GetArrayFromImage(out)##numpy_array \n",
    "sample_filter.append(img_arrey)"
   ]
  },
  {
   "cell_type": "code",
   "execution_count": 16,
   "metadata": {},
   "outputs": [
    {
     "name": "stdout",
     "output_type": "stream",
     "text": [
      "Looking in links: https://github.com/SimpleITK/SimpleITK/releases/tag/latest\n",
      "Collecting SimpleITK\n",
      "\u001b[?25l  Downloading https://github.com/SimpleITK/SimpleITK/releases/download/latest/SimpleITK-2.0.0rc2.post25-cp37-cp37m-manylinux1_x86_64.whl (44.4MB)\n",
      "\u001b[K    100% |████████████████████████████████| 44.4MB 206kB/s  eta 0:00:01\n",
      "\u001b[?25hInstalling collected packages: SimpleITK\n",
      "Successfully installed SimpleITK-2.0.0rc2.post25\n",
      "\u001b[33mYou are using pip version 10.0.1, however version 20.2b1 is available.\n",
      "You should consider upgrading via the 'pip install --upgrade pip' command.\u001b[0m\n"
     ]
    }
   ],
   "source": [
    "!pip install --user --pre SimpleITK --find-links https://github.com/SimpleITK/SimpleITK/releases/tag/latest"
   ]
  },
  {
   "cell_type": "code",
   "execution_count": 17,
   "metadata": {},
   "outputs": [
    {
     "name": "stdout",
     "output_type": "stream",
     "text": [
      "/Shared/pinc/sharedopt/apps/anaconda3/Linux/x86_64/5.3.0/bin/pip\r\n"
     ]
    }
   ],
   "source": [
    "!which pip"
   ]
  },
  {
   "cell_type": "code",
   "execution_count": null,
   "metadata": {},
   "outputs": [],
   "source": [
    "!export PYTHONPATH=$PYTHONPATH:~/.local/lib/python3.7/site-packages"
   ]
  },
  {
   "cell_type": "code",
   "execution_count": 18,
   "metadata": {},
   "outputs": [],
   "source": [
    "import SimpleITK as sitk\n",
    "import numpy as np"
   ]
  },
  {
   "cell_type": "code",
   "execution_count": 21,
   "metadata": {},
   "outputs": [],
   "source": [
    "Image = sitk.ReadImage('/Shared/tientong_scratch/abcd/rawdata/sub-NDARINV6YMY7HCD/ses-baselineYear1Arm1/anat/sub-NDARINV6YMY7HCD_ses-baselineYear1Arm1_T1w.nii.gz')\n",
    "\n",
    "image_orgin = Image.GetOrigin()\n",
    "image_spacing = Image.GetSpacing()\n",
    "image_direction = Image.GetDirection()\n",
    "\n",
    "Image = sitk.Cast(Image, sitk.sitkFloat32)\n",
    "maskImage = sitk.OtsuThreshold(Image, 0, 1, 200)\n",
    "\n",
    "Image.SetOrigin([0] * 3)\n",
    "Image.SetSpacing([1] * 3)\n",
    "Image.SetDirection([1.0,0.0,0.0,0.0,1.0,0.0,0.0,0.0,1.0])\n",
    "\n",
    "maskImage.SetOrigin([0] * 3)\n",
    "maskImage.SetSpacing([1] * 3)\n",
    "maskImage.SetDirection([1.0,0.0,0.0,0.0,1.0,0.0,0.0,0.0,1.0])\n",
    "\n",
    "corrector = sitk.N4BiasFieldCorrectionImageFilter()\n",
    "#corrector.SetMaximumNumberOfIterations([2, 2, 2, 2])\n",
    "corrector.SetMaximumNumberOfIterations([50, 50, 50, 50])\n",
    "imagePost = corrector.Execute(Image, maskImage)\n",
    "\n",
    "\n",
    "sitk.WriteImage(imagePost, \"/Shared/tientong_scratch/abcd/derivatives/atroposn4/test/sub-NDARINV6YMY7HCD/ses-baselineYear1Arm1/test.nii.gz\")"
   ]
  },
  {
   "cell_type": "code",
   "execution_count": null,
   "metadata": {},
   "outputs": [],
   "source": [
    "registration_method = sitk.ImageRegistrationMethod()\n",
    "# Optimizer settings.\n",
    "registration_method.SetOptimizerAsGradientDescent(learningRate=1.0, numberOfIterations=100, convergenceMinimumValue=1e-6, convergenceWindowSize=10)\n",
    "registration_method.SetOptimizerScalesFromPhysicalShift()\n"
   ]
  },
  {
   "cell_type": "markdown",
   "metadata": {},
   "source": [
    "# Issue fixed with reorienting input\n",
    "\n",
    "N4 failed because image was in AIL, reorient to LPI like others"
   ]
  },
  {
   "cell_type": "code",
   "execution_count": null,
   "metadata": {},
   "outputs": [],
   "source": [
    "%%bash\n",
    "\n",
    "output=/Shared/tientong_scratch/abcd/derivatives/freesurfer\n",
    "log=(`ls $output/sub*/scripts/recon-all-status.log`)\n",
    "check=/Shared/tientong_scratch/abcd/derivatives/freesurfer/result_check.txt\n",
    "\n",
    "# print out the number of subjects that finished running through recon-all\n",
    "cat ${log[*]} | grep \"finished without error at\" | wc -l\n",
    "\n",
    "# get a list of subjects that failed\n",
    "for i in ${!log[@]} ; do\n",
    " if [ 0 -eq $(cat ${log[$i]} | grep \"finished without error at\" | wc -l) ] ; then\n",
    " echo $(cut -d \"_\" -f1 <<<`cut -d \"/\" -f7 <<< ${log[$i]}`) >> $check\n",
    " fi\n",
    "done\n"
   ]
  },
  {
   "cell_type": "markdown",
   "metadata": {},
   "source": [
    "# Aggregate all sub to one file"
   ]
  },
  {
   "cell_type": "code",
   "execution_count": null,
   "metadata": {},
   "outputs": [],
   "source": [
    "%%bash\n",
    "\n",
    "ls /Shared/tientong_scratch/abcd/derivatives/freesurfer/*/stats/rh.aparc.stats > subjectlist.txt\n",
    "\n",
    "\n",
    "source ~/sourcefiles/freesurfer_source.sh\n",
    "\n",
    "\n",
    "dir=/Shared/tientong_scratch/abcd/derivatives/freesurfer\n",
    "sublist=${dir}/subjectlist.txt\n",
    "\n",
    "for hemi in lh rh ; do\n",
    " aparcstats2table \\\n",
    "  --hemi ${hemi} \\\n",
    "  --subjectsfile ${sublist} \\\n",
    "  --measure thickness \\\n",
    "  --tablefile ${dir}/${hemi}.thickness.stats \\\n",
    "  --skip\n",
    "done"
   ]
  },
  {
   "cell_type": "code",
   "execution_count": null,
   "metadata": {},
   "outputs": [],
   "source": [
    "%%bash\n",
    "\n",
    "#ls /Shared/tientong_scratch/abcd/derivatives/freesurfer/*/stats/rh.aparc.stats > subjectlist.txt\n",
    "\n",
    "\n",
    "source ~/sourcefiles/freesurfer_source.sh\n",
    "\n",
    "\n",
    "dir=/Shared/tientong_scratch/abcd/derivatives/freesurfer\n",
    "sublist=${dir}/subjectlist.txt\n",
    "\n",
    "for hemi in lh rh ; do\n",
    " aparcstats2table \\\n",
    "  --hemi ${hemi} \\\n",
    "  --subjectsfile ${sublist} \\\n",
    "  --measure volume \\\n",
    "  --tablefile ${dir}/${hemi}.volume.stats \\\n",
    "  --skip\n",
    "done"
   ]
  },
  {
   "cell_type": "markdown",
   "metadata": {},
   "source": [
    "# Run Qoala-T"
   ]
  },
  {
   "cell_type": "code",
   "execution_count": null,
   "metadata": {},
   "outputs": [],
   "source": [
    "%%bash\n",
    "\n",
    "# Step 1: extract the necessary information needed in order to perform Qoala-T\n",
    "\n",
    "Rscript /Shared/tientong_scratch/abcd/code/qoalat/Stats2Table.R\n",
    "\n",
    "## output from Step 1: /Shared/tientong_scratch/abcd/derivatives/freesurfer/FreeSurfer_Output_abcd.csv\n",
    "\n",
    "# Step 2: Run the model-based Qoala-T (had difficulties installing packages run on laptop)\n",
    "\n",
    "Rscript /Shared/tientong_scratch/abcd/code/qoalat/Qoala_T_A_model_based_github.R"
   ]
  },
  {
   "cell_type": "markdown",
   "metadata": {},
   "source": [
    "check FH of the bad data\n",
    "\n"
   ]
  },
  {
   "cell_type": "code",
   "execution_count": null,
   "metadata": {},
   "outputs": [],
   "source": [
    "%%bash\n",
    "\n",
    "# check how many finish without error\n",
    "path=/Shared/tientong_scratch/abcd/derivatives/freesurfer\n",
    "log=`ls ${path}/*/scripts/recon-all.log`\n",
    "\n",
    "\n",
    "grep \"finished without error at\" $log | wc -l\n"
   ]
  },
  {
   "cell_type": "code",
   "execution_count": null,
   "metadata": {},
   "outputs": [],
   "source": []
  },
  {
   "cell_type": "code",
   "execution_count": null,
   "metadata": {},
   "outputs": [],
   "source": []
  },
  {
   "cell_type": "code",
   "execution_count": null,
   "metadata": {},
   "outputs": [],
   "source": []
  },
  {
   "cell_type": "code",
   "execution_count": null,
   "metadata": {},
   "outputs": [],
   "source": []
  },
  {
   "cell_type": "code",
   "execution_count": null,
   "metadata": {},
   "outputs": [],
   "source": []
  }
 ],
 "metadata": {
  "kernelspec": {
   "display_name": "Python 3",
   "language": "python",
   "name": "python3"
  },
  "language_info": {
   "codemirror_mode": {
    "name": "ipython",
    "version": 3
   },
   "file_extension": ".py",
   "mimetype": "text/x-python",
   "name": "python",
   "nbconvert_exporter": "python",
   "pygments_lexer": "ipython3",
   "version": "3.7.2"
  }
 },
 "nbformat": 4,
 "nbformat_minor": 2
}
