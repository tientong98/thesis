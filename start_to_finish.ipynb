{
 "cells": [
  {
   "cell_type": "markdown",
   "metadata": {},
   "source": [
    "# Download data and organize in BIDS format\n",
    "\n",
    "Instruction here: https://github.com/DCAN-Labs/abcd-dicom2bids\n",
    "\n",
    "This repo has been cloned to `/Shared/tientong_scratch/abcd/code/00abcd2bids_convert/abcd2bids_github`\n",
    "\n",
    "To run their scripts, make sure you follow what is listed in the file below\n",
    "`/Shared/tientong_scratch/abcd/code/00abcd2bids_convert/abcd2bids_github/notes_abcd2bids.txt`\n",
    "\n",
    "Also, because I only care about rs fMRI and sMRI, I went through all of the scripts and config files in the abcd-dicom2bids repo and delete everything related to task fMRI or validating BIDS (running BIDS validation needs docker, which can't be run on IFT machines). Below is an example of how to run this script\n",
    "\n",
    "`python <path to script>/abcd2bids.py /Shared/pinc/sharedopt/apps/fsl/Linux/x86_64/5.0.8 /Shared/tientong_scratch/abcd/code/00abcd2bids_convert/R2016b/v91 --username tientong --password <your password> 2>&1 | tee abcd2bids_log.txt `\n",
    "\n",
    "What I would recommend is submitting this as job on Argon"
   ]
  },
  {
   "cell_type": "code",
   "execution_count": null,
   "metadata": {},
   "outputs": [],
   "source": [
    "# run this on argon\n",
    "\n",
    "%%bash\n",
    "qsub /Shared/tientong_scratch/abcd/code/00run_abcd2bids.sh "
   ]
  },
  {
   "cell_type": "markdown",
   "metadata": {},
   "source": [
    "## Move data\n",
    "\n",
    "`mv /Shared/tientong_scratch/abcd/code/00abcd2bids_convert/abcd2bids_github/data/* /Shared/tientong_scratch/abcd/rawdata`\n",
    "\n",
    "## Run BIDS Validator\n",
    "\n",
    "http://bids-standard.github.io/bids-validator/\n",
    "\n",
    "Some file wasn't associated with json files, e.g., `/Shared/tientong_scratch/abcd/rawdata/sub-NDARINV12F1NWCG/ses-baselineYear1Arm1/fmap/vol0002.nii.gz`\n",
    "\n",
    "Right now not sure what happened with the abcd2bids script, move all of those files to \n",
    "`/Shared/tientong_scratch/abcd/nojson` with the code in the cell below:"
   ]
  },
  {
   "cell_type": "code",
   "execution_count": null,
   "metadata": {},
   "outputs": [],
   "source": [
    "%%bash\n",
    "for i in /Shared/tientong_scratch/abcd/rawdata/[a-zA-Z0-9]*/[a-zA-Z0-9]*/fmap ; do \n",
    "sub=(`echo $i | awk '{gsub(\"/\",\" \"); print $5}' | awk '{gsub(\"-\",\" \"); print $2}'`)\n",
    "ses=(`echo $i | awk '{gsub(\"/\",\" \"); print $6}' | awk '{gsub(\"-\",\" \"); print $2}'`)\n",
    "[ -f /Shared/tientong_scratch/abcd/rawdata/sub-${sub}/ses-${ses}/fmap/vol*2*.nii.gz ] && mkdir -p /Shared/tientong_scratch/abcd/nojson/sub-${sub}/ses-${ses}/fmap && mv /Shared/tientong_scratch/abcd/rawdata/sub-${sub}/ses-${ses}/fmap/vol*.nii.gz /Shared/tientong_scratch/abcd/nojson/sub-${sub}/ses-${ses}/fmap\n",
    "done"
   ]
  },
  {
   "cell_type": "markdown",
   "metadata": {},
   "source": [
    "## To run a different batch of participants\n",
    "\n",
    "Download the `ABCD Fasttrack QC Instrument` file (https://nda.nih.gov/) with the list of participants you're interested in. You can then make changes to this file (e.g., exclude task fMRI, DTI) by running `/Shared/tientong_scratch/abcd/code/00abcd2bids_convert/fhpFastTrackQC/getStructandRS.R`\n",
    "\n",
    "then, copy the output to\n",
    "\n",
    "/Shared/tientong_scratch/abcd/code/00abcd2bids_convert/abcd2bids_github/spreadsheets/abcd_fastqc01.txt\n",
    "\n",
    "## Multiple images of the same module of the same session\n",
    "\n",
    "Have to pick the run that is better. How? running MRIQC\n",
    "\n",
    "\n",
    "# Run MRIQC\n",
    "\n",
    "## MRIQC Subject Level\n",
    "\n",
    "Create a template file (currently put on argon\n",
    "\n",
    "`/Users/tientong/job_scripts/mriqc/abcd/mriqc_TEMPLATE.job`\n",
    "\n",
    "Content of the template file pasted below"
   ]
  },
  {
   "cell_type": "code",
   "execution_count": null,
   "metadata": {},
   "outputs": [],
   "source": [
    "#!/bin/sh\n",
    "#$ -pe smp 16\n",
    "#$ -q PINC,CCOM,UI\n",
    "#$ -m e\n",
    "#$ -M tien-tong@uiowa.edu\n",
    "#$ -o /Users/tientong/logs/abcd/mriqc/out\n",
    "#$ -e /Users/tientong/logs/abcd/mriqc/err\n",
    "OMP_NUM_THREADS=8\n",
    "singularity run -H /Users/tientong/singularity_home \\\n",
    "/Users/tientong/mriqc_0.14.2.sif \\\n",
    "/Shared/tientong_scratch/abcd/rawdata \\\n",
    "/Shared/tientong_scratch/abcd/derivatives/mriqc \\\n",
    "participant --participant_label SUBJECT \\\n",
    "--no-sub --verbose-reports --write-graph \\\n",
    "-w /Shared/tientong_scratch/abcd/derivatives/mriqc \\\n",
    "--n_procs 8 --mem_gb 36000"
   ]
  },
  {
   "cell_type": "code",
   "execution_count": null,
   "metadata": {},
   "outputs": [],
   "source": [
    "# create a list of available subjects\n",
    "\n",
    "%%bash\n",
    "outputFile=/Shared/tientong_scratch/abcd/log/subjectlist/200129list.txt\n",
    "for i in /Shared/tientong_scratch/abcd/rawdata/[a-zA-Z0-9]*/[a-zA-Z0-9]*/anat ; do \n",
    "info=(`echo $i | awk '{gsub(\"/\",\" \"); print $5}'`)\n",
    "sub=(`echo $info | awk '{gsub(\"-\",\" \"); print $2}'`)\n",
    "echo $sub\n",
    "done > ${outputFile}"
   ]
  },
  {
   "cell_type": "code",
   "execution_count": null,
   "metadata": {},
   "outputs": [],
   "source": [
    "# then run this on argon to create individual mriqc job script\n",
    "\n",
    "%%bash\n",
    "\n",
    "for sub in $(cat /Shared/tientong_scratch/abcd/log/subjectlist/200129list.txt | tr '\\n' ' ') ; do\n",
    "sed -e \"s|SUBJECT|${sub}|\" /Users/tientong/job_scripts/mriqc/abcd/mriqc_TEMPLATE.job > /Users/tientong/job_scripts/mriqc/abcd/mriqc_sub-${sub}.job\n",
    "done\n",
    "\n",
    "for sub in $(cat /Shared/tientong_scratch/abcd/log/subjectlist/200129list.txt | tr '\\n' ' ') ; do\n",
    "    qsub /Users/tientong/job_scripts/mriqc/abcd/mriqc_sub-${sub}.job\n",
    "done "
   ]
  },
  {
   "cell_type": "markdown",
   "metadata": {},
   "source": [
    "## After subject level mriqc\n",
    "\n",
    "**Jan 30 2020** Completed running mriqc all subjects in the list below\n",
    "\n",
    "`/Shared/tientong_scratch/abcd/log/subjectlist/200129list.txt`\n",
    "\n",
    "EXCEPT  \n",
    "sub-NDARINV93KR583V - T2w  \n",
    "sub-NDARINVA01DRNBZ - resting state   \n",
    "sub-NDARINVCVK8YHVR - T2w  \n",
    "sub-NDARINVJXT9LVJP - T2w  \n",
    "sub-NDARINVRT0YKWJM - T2w  \n",
    "sub-NDARINVZL6CFV5G - T2w  \n",
    "  \n",
    "Detailed logs are at `/Shared/tientong_scratch/abcd/derivatives/mriqc/logs`\n",
    "\n",
    "## MRIQC group level"
   ]
  },
  {
   "cell_type": "code",
   "execution_count": null,
   "metadata": {},
   "outputs": [],
   "source": [
    "# after finish subject level analysis, run the group analysis (concatnate subjects' files)\n",
    "\n",
    "singularity run -H /Users/tientong/singularity_home \\\n",
    "/Users/tientong/mriqc_0.14.2.sif \\\n",
    "/Shared/tientong_scratch/abcd/rawdata \\\n",
    "/Shared/tientong_scratch/abcd/derivatives/mriqc \\\n",
    "group --no-sub --verbose-reports --write-graph \\\n",
    "-w /Shared/tientong_scratch/abcd/derivatives/mriqc"
   ]
  },
  {
   "cell_type": "markdown",
   "metadata": {},
   "source": [
    "Once the group level MRIQC is completed, move all files to\n",
    "\n",
    "`/Shared/tientong_scratch/abcd/derivatives/mriqc/200129list_group`"
   ]
  },
  {
   "cell_type": "markdown",
   "metadata": {},
   "source": [
    "# Choosing the best T1 or T2\n",
    "\n",
    "Both BrainsTools and Freesurfer can only have 1 T1/T2 input, therefore, have to choose the run with the best quality before running sMRI analysis. \n",
    "\n",
    "Code: `/Shared/tientong_scratch/abcd/code/baw00ChooseBestStruct.R`"
   ]
  },
  {
   "cell_type": "markdown",
   "metadata": {},
   "source": [
    "# Running BrainsTools\n",
    "\n",
    "Follow the direction here https://github.com/TKoscik/nimg_core/blob/master/pipelines/structural_volumetrics/baw.md\n",
    "\n",
    "1. Run the csv creator\n",
    "\n",
    "`/Shared/tientong_scratch/abcd/abcd2bids_convert/abcd2bids_github/code/baw01BRAINSTools_csvcreator.sh`\n",
    "\n",
    "Note: Looks like BrainsTools expects all session number to be different - have to replace session (baselineYear1Arm1) to a series of random numbers/strings "
   ]
  },
  {
   "cell_type": "code",
   "execution_count": null,
   "metadata": {},
   "outputs": [],
   "source": [
    "%%bash\n",
    "for i in /Shared/tientong_scratch/abcd/rawdata/[a-zA-Z0-9]*/[a-zA-Z0-9]* ; do \n",
    "sub=(`echo $i | awk '{gsub(\"/\",\" \"); print $5}'| awk '{gsub(\"-\",\" \"); print $2}'`)\n",
    "ses=(`echo $i | awk '{gsub(\"/\",\" \"); print $6}'| awk '{gsub(\"-\",\" \"); print $2}'`)\n",
    "mv $i /Shared/tientong_scratch/abcd/rawdata/sub-${sub}/ses-$(\"uuidgen\")\n",
    "done"
   ]
  },
  {
   "cell_type": "markdown",
   "metadata": {},
   "source": [
    "2. Make changes to the config file (on the lines written in the header\n",
    "\n",
    "`/Shared/tientong_scratch/abcd/code/baw02BRAINSTools.config`\n",
    "\n",
    "3. Run this BrainsTools on argon with\n",
    "\n",
    "`/Shared/tientong_scratch/abcd/code/baw03runbaw.sh`\n",
    "\n",
    "The steps are pasted below:"
   ]
  },
  {
   "cell_type": "code",
   "execution_count": null,
   "metadata": {},
   "outputs": [],
   "source": [
    "# run this on argon\n",
    "%%bash\n",
    "\n",
    "sh /Shared/tientong_scratch/abcd/code/baw01BRAINSTools_csvcreator.sh -r /Shared/tientong_scratch -p abcd -o /Shared/tientong_scratch/abcd/derivatives/baw/200129.csv\n",
    "\n",
    "export PATH=/Shared/pinc/sharedopt/apps/anaconda3/Linux/x86_64/4.3.0/bin:$PATH\n",
    "bash /Shared/tientong_scratch/abcd/code/baw03runbaw.sh -p 1 -s all -r SGEGraph -c /Shared/tientong_scratch/abcd/code/baw02BRAINSTools.config"
   ]
  },
  {
   "cell_type": "markdown",
   "metadata": {},
   "source": [
    "# Running Freesurfer\n",
    "\n",
    "## First Create Atropos N4  T1 and T2\n",
    "\n",
    "Template file is `/Shared/tientong_scratch/abcd/code/freesurfer00AtroposN4TEMPLATE.sh.in`, need to run a script to generate individuals' Atropos N4 correction script"
   ]
  },
  {
   "cell_type": "code",
   "execution_count": null,
   "metadata": {},
   "outputs": [],
   "source": [
    "%%bash\n",
    "\n",
    "cd /Shared/tientong_scratch/abcd/code/freesurfer00AtroposN4_T1 # all the sh scripts will be here\n",
    "sh /Shared/tientong_scratch/abcd/code/freesurfer00createAtroposN4_T1.sh -r /Shared/tientong_scratch -p abcd\n",
    "ls * | xargs -i{} -P10 sh {}"
   ]
  },
  {
   "cell_type": "code",
   "execution_count": null,
   "metadata": {},
   "outputs": [],
   "source": [
    "%%bash\n",
    "\n",
    "cd /Shared/tientong_scratch/abcd/code/freesurfer00AtroposN4_T2 # all the sh scripts will be here\n",
    "sh /Shared/tientong_scratch/abcd/code/freesurfer00createAtroposN4_T2.sh -r /Shared/tientong_scratch -p abcd\n",
    "ls * | xargs -i{} -P10 sh {}"
   ]
  },
  {
   "cell_type": "code",
   "execution_count": null,
   "metadata": {},
   "outputs": [],
   "source": [
    "## Run Freesurfer for subjects with both T1 and T2"
   ]
  },
  {
   "cell_type": "code",
   "execution_count": null,
   "metadata": {},
   "outputs": [],
   "source": [
    "%%bash\n",
    "\n",
    "cd /Shared/tientong_scratch/abcd/code/freesurfer01createFSjobsT1T2 # all the sh scripts will be here\n",
    "sh /Shared/tientong_scratch/abcd/code/freesurfer01createFSjobsT1T2.sh -r /Shared/tientong_scratch -p abcd\n",
    "ls * | xargs -i{} -P10 sh {}"
   ]
  },
  {
   "cell_type": "markdown",
   "metadata": {},
   "source": [
    "# Useful codes"
   ]
  },
  {
   "cell_type": "code",
   "execution_count": null,
   "metadata": {},
   "outputs": [],
   "source": [
    "# dcm2niix code if needed\n",
    "\n",
    "/Shared/pinc/sharedopt/apps/MRIcroGL/Linux/x86_64/1.2.20181114/dcm2niix -f %b_%d -z y -b y -o \"/Shared/tientong_scratch/rawdata/sub-NDARINV01TXCDJN/ses-baselineYear1Arm1/anat/\" /Shared/tientong_scratch/sourcedata/sub-NDARINV01TXCDJN/ses-baselineYear1Arm1/anat/*\n",
    "\n",
    "#  -f : filename (%a=antenna (coil) name, \n",
    "#                 %b=basename, \n",
    "#                 %c=comments, \n",
    "#                 %d=description, \n",
    "#                 %e=echo number, \n",
    "#                 ### %f=folder name, \n",
    "#                 %i=ID of patient, \n",
    "#                 %j=seriesInstanceUID, \n",
    "#                 %k=studyInstanceUID, \n",
    "#                 %m=manufacturer, \n",
    "#                 %n=name of patient, \n",
    "#                 #### %p=protocol, \n",
    "#                 %r=instance number, \n",
    "#                 %s=series number, \n",
    "#                 #### %t=time, \n",
    "#                 %u=acquisition number, \n",
    "#                 %v=vendor, \n",
    "#                 %x=study ID; \n",
    "#                 %z=sequence name; \n",
    "#                 default '%s')\n"
   ]
  }
 ],
 "metadata": {
  "kernelspec": {
   "display_name": "Python 3",
   "language": "python",
   "name": "python3"
  },
  "language_info": {
   "codemirror_mode": {
    "name": "ipython",
    "version": 3
   },
   "file_extension": ".py",
   "mimetype": "text/x-python",
   "name": "python",
   "nbconvert_exporter": "python",
   "pygments_lexer": "ipython3",
   "version": "3.7.2"
  }
 },
 "nbformat": 4,
 "nbformat_minor": 2
}
